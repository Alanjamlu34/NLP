{
 "cells": [
  {
   "cell_type": "code",
   "execution_count": 1,
   "metadata": {},
   "outputs": [],
   "source": [
    "from bs4 import BeautifulSoup\n",
    "import requests\n",
    "import pandas as pd\n",
    "import seaborn as sns\n",
    "import matplotlib.pyplot as plt"
   ]
  },
  {
   "cell_type": "code",
   "execution_count": 2,
   "metadata": {},
   "outputs": [
    {
     "name": "stdout",
     "output_type": "stream",
     "text": [
      "Dataset saved successfully!\n"
     ]
    }
   ],
   "source": [
    "# Inisialisasi variabel\n",
    "names = []\n",
    "stars = []\n",
    "rewatches = []\n",
    "reviews = []\n",
    "\n",
    "# URL halaman pertama\n",
    "url = 'https://letterboxd.com/film/interstellar/reviews/'\n",
    "\n",
    "# Looping halaman\n",
    "while url:\n",
    "    response = requests.get(url)\n",
    "    review_page = response.text\n",
    "    soup = BeautifulSoup(review_page, 'html.parser')\n",
    "\n",
    "    # Temukan semua kontainer ulasan\n",
    "    review_containers = soup.find_all('li', class_='film-detail')\n",
    "\n",
    "    # Ekstraksi detail ulasan\n",
    "    for container in review_containers:\n",
    "        name = container.find('a', class_='avatar').get('href').split('/')[-2]\n",
    "        stars_text = container.find('span', class_='rating').get_text(strip=True) if container.find('span', class_='rating') else 'No rating'\n",
    "        rewatch = 'Rewatched' if container.find('span', class_='icon-rewatch') else 'Watched'\n",
    "        review_text = container.find('div', class_='body-text').get_text(strip=True)\n",
    "\n",
    "        # Tambahkan data ke dalam daftar\n",
    "        names.append(name)\n",
    "        stars.append(stars_text)\n",
    "        rewatches.append(rewatch)\n",
    "        reviews.append(review_text)\n",
    "\n",
    "    # Cari tautan ke halaman berikutnya\n",
    "    next_page = soup.find('a', class_='next')\n",
    "    if next_page:\n",
    "        url = 'https://letterboxd.com' + next_page['href']\n",
    "    else:\n",
    "        url = None\n",
    "\n",
    "# Create a DataFrame\n",
    "data = {\n",
    "    'Name': names,\n",
    "    'Stars': stars,\n",
    "    'Rewatch': rewatches,\n",
    "    'Review': reviews\n",
    "}\n",
    "df = pd.DataFrame(data)\n",
    "\n",
    "# Save DataFrame to a CSV file\n",
    "df.to_csv('interstellar_reviews.csv', index=False)\n",
    "\n",
    "print(\"Dataset saved successfully!\")"
   ]
  },
  {
   "cell_type": "code",
   "execution_count": 3,
   "metadata": {},
   "outputs": [
    {
     "data": {
      "text/html": [
       "<div>\n",
       "<style scoped>\n",
       "    .dataframe tbody tr th:only-of-type {\n",
       "        vertical-align: middle;\n",
       "    }\n",
       "\n",
       "    .dataframe tbody tr th {\n",
       "        vertical-align: top;\n",
       "    }\n",
       "\n",
       "    .dataframe thead th {\n",
       "        text-align: right;\n",
       "    }\n",
       "</style>\n",
       "<table border=\"1\" class=\"dataframe\">\n",
       "  <thead>\n",
       "    <tr style=\"text-align: right;\">\n",
       "      <th></th>\n",
       "      <th>Name</th>\n",
       "      <th>Stars</th>\n",
       "      <th>Rewatch</th>\n",
       "      <th>Review</th>\n",
       "    </tr>\n",
       "  </thead>\n",
       "  <tbody>\n",
       "    <tr>\n",
       "      <th>3067</th>\n",
       "      <td>altstreak</td>\n",
       "      <td>★★★★★</td>\n",
       "      <td>Watched</td>\n",
       "      <td>cant wait to watch this again in imax this fal...</td>\n",
       "    </tr>\n",
       "    <tr>\n",
       "      <th>3068</th>\n",
       "      <td>valenccv</td>\n",
       "      <td>★★★★½</td>\n",
       "      <td>Watched</td>\n",
       "      <td>I think that we know who is his favorite child</td>\n",
       "    </tr>\n",
       "    <tr>\n",
       "      <th>3069</th>\n",
       "      <td>bolsademareo</td>\n",
       "      <td>★★★★★</td>\n",
       "      <td>Watched</td>\n",
       "      <td>call it a twink the way it cannot be topped</td>\n",
       "    </tr>\n",
       "    <tr>\n",
       "      <th>3070</th>\n",
       "      <td>haleemak</td>\n",
       "      <td>★★★★★</td>\n",
       "      <td>Watched</td>\n",
       "      <td>LOVE TRANSCENDS TIME AND SPACE!!!!! IT IS ALLW...</td>\n",
       "    </tr>\n",
       "    <tr>\n",
       "      <th>3071</th>\n",
       "      <td>maveii</td>\n",
       "      <td>★★★★½</td>\n",
       "      <td>Watched</td>\n",
       "      <td>No entendí pero muy buena</td>\n",
       "    </tr>\n",
       "  </tbody>\n",
       "</table>\n",
       "</div>"
      ],
      "text/plain": [
       "              Name  Stars  Rewatch  \\\n",
       "3067     altstreak  ★★★★★  Watched   \n",
       "3068      valenccv  ★★★★½  Watched   \n",
       "3069  bolsademareo  ★★★★★  Watched   \n",
       "3070      haleemak  ★★★★★  Watched   \n",
       "3071        maveii  ★★★★½  Watched   \n",
       "\n",
       "                                                 Review  \n",
       "3067  cant wait to watch this again in imax this fal...  \n",
       "3068     I think that we know who is his favorite child  \n",
       "3069        call it a twink the way it cannot be topped  \n",
       "3070  LOVE TRANSCENDS TIME AND SPACE!!!!! IT IS ALLW...  \n",
       "3071                          No entendí pero muy buena  "
      ]
     },
     "execution_count": 3,
     "metadata": {},
     "output_type": "execute_result"
    }
   ],
   "source": [
    "df.tail()"
   ]
  }
 ],
 "metadata": {
  "kernelspec": {
   "display_name": "Python 3",
   "language": "python",
   "name": "python3"
  },
  "language_info": {
   "codemirror_mode": {
    "name": "ipython",
    "version": 3
   },
   "file_extension": ".py",
   "mimetype": "text/x-python",
   "name": "python",
   "nbconvert_exporter": "python",
   "pygments_lexer": "ipython3",
   "version": "3.12.2"
  }
 },
 "nbformat": 4,
 "nbformat_minor": 2
}
